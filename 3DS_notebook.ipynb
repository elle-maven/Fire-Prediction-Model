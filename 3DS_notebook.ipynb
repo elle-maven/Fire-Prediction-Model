{
 "cells": [
  {
   "cell_type": "markdown",
   "id": "343a4009",
   "metadata": {},
   "source": [
    "# 3DS Notebook\n",
    "## Section\n",
    "### Sub-section"
   ]
  },
  {
   "cell_type": "markdown",
   "id": "07f48765",
   "metadata": {},
   "source": [
    "For the ENCH 470/670 Final Project, groups will submit:\n",
    "\n",
    "An annotated Jupyter Notebook (shared on GitHub!)\n",
    "A video presentation (maximum 20 minutes)\n",
    "\n",
    "\n",
    "According to the syllabus, out of a total of 100 points, the final project is:\n",
    "\n",
    "·       Problem Setup – 15% \n",
    "\n",
    "·       Analysis – 15%\n",
    "\n",
    "·       Data visualizations – 15%\n",
    "\n",
    "·       Code style – 15%\n",
    "\n",
    "·       Presentation – 15%\n",
    "\n",
    "·       Individual effort – 25% \n",
    "\n",
    "Individual effort will be assessed in part using peer evaluations, which I will collect through a Google form after the projects have been submitted."
   ]
  },
  {
   "cell_type": "code",
   "execution_count": null,
   "id": "2c8464f1",
   "metadata": {},
   "outputs": [],
   "source": [
    "print(\"hello world\")"
   ]
  }
 ],
 "metadata": {
  "kernelspec": {
   "display_name": "Python 3",
   "language": "python",
   "name": "python3"
  },
  "language_info": {
   "name": "python",
   "version": "3.13.3"
  }
 },
 "nbformat": 4,
 "nbformat_minor": 5
}
