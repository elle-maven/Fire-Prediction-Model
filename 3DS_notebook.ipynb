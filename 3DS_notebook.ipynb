{
 "cells": [
  {
   "cell_type": "markdown",
   "id": "343a4009",
   "metadata": {},
   "source": [
    "3DS Notebook\n",
    "Testing"
   ]
  },
  {
   "cell_type": "code",
   "execution_count": null,
   "id": "2c8464f1",
   "metadata": {},
   "outputs": [],
   "source": [
    "print(\"hello world\")"
   ]
  }
 ],
 "metadata": {
  "kernelspec": {
   "display_name": "Python 3",
   "language": "python",
   "name": "python3"
  },
  "language_info": {
   "name": "python",
   "version": "3.13.3"
  }
 },
 "nbformat": 4,
 "nbformat_minor": 5
}
