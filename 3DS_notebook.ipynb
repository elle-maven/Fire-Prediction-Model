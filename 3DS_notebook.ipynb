{
 "cells": [
  {
   "cell_type": "markdown",
   "id": "343a4009",
   "metadata": {},
   "source": [
    "# 3DS Notebook\n",
    "## Section\n",
    "### Sub-section"
   ]
  },
  {
   "cell_type": "markdown",
   "id": "07f48765",
   "metadata": {},
   "source": [
    "For the ENCH 470/670 Final Project, groups will submit:\n",
    "\n",
    "An annotated Jupyter Notebook (shared on GitHub!)\n",
    "A video presentation (maximum 20 minutes)\n",
    "\n",
    "\n",
    "According to the syllabus, out of a total of 100 points, the final project is:\n",
    "\n",
    "·       Problem Setup – 15% \n",
    "\n",
    "·       Analysis – 15%\n",
    "\n",
    "·       Data visualizations – 15%\n",
    "\n",
    "·       Code style – 15%\n",
    "\n",
    "·       Presentation – 15%\n",
    "\n",
    "·       Individual effort – 25% \n",
    "\n",
    "Individual effort will be assessed in part using peer evaluations, which I will collect through a Google form after the projects have been submitted."
   ]
  },
  {
   "cell_type": "code",
   "execution_count": 14,
   "id": "2c8464f1",
   "metadata": {},
   "outputs": [],
   "source": [
    "# Import necessary libraries\n",
    "import pandas as pd\n",
    "import numpy as np\n",
    "from sklearn.model_selection import train_test_split\n",
    "from sklearn.ensemble import RandomForestRegressor\n",
    "from sklearn.metrics import mean_squared_error, r2_score, accuracy_score\n",
    "from sklearn.ensemble import RandomForestClassifier\n",
    "import matplotlib.pyplot as plt\n",
    "import seaborn as sns\n",
    "from sklearn.cluster import KMeans\n"
   ]
  },
  {
   "cell_type": "markdown",
   "id": "21fd8ad9",
   "metadata": {},
   "source": [
    "Loading the CSV file"
   ]
  },
  {
   "cell_type": "code",
   "execution_count": 15,
   "id": "ead13667",
   "metadata": {},
   "outputs": [
    {
     "name": "stderr",
     "output_type": "stream",
     "text": [
      "/var/folders/xd/6gjsjt616lq3hp1d33ns10300000gn/T/ipykernel_26453/776384868.py:1: DtypeWarning: Columns (0) have mixed types. Specify dtype option on import or set low_memory=False.\n",
      "  df = pd.read_csv(\"weather_data_with_fires.csv\")\n"
     ]
    }
   ],
   "source": [
    "df = pd.read_csv(\"weather_data_with_fires.csv\")"
   ]
  },
  {
   "cell_type": "markdown",
   "id": "47b8c1a9",
   "metadata": {},
   "source": [
    "Pre-Process the Data"
   ]
  },
  {
   "cell_type": "code",
   "execution_count": null,
   "id": "91654ccb",
   "metadata": {},
   "outputs": [],
   "source": [
    "# Convert DATE to datetime\n",
    "df['DATE'] = pd.to_datetime(df['DATE'], errors='coerce')\n",
    "\n",
    "# Extract month, and day from DATE\n",
    "df['MONTH'] = df['DATE'].dt.month\n",
    "df['DAY'] = df['DATE'].dt.day\n",
    "\n",
    "# Drop unnecessary columns\n",
    "df = df.drop(columns=['STATION', 'DATE', 'FIRE_NAME'])\n",
    "df = df.dropna()\n",
    "\n",
    "# Remove invalid rows where MAX temperature is abnormally high\n",
    "df = df[df['MAX'] < 300]  # Assumes real temperatures are under 300°F\n"
   ]
  },
  {
   "cell_type": "markdown",
   "id": "50fcc94a",
   "metadata": {},
   "source": [
    "Splitting data and training the model"
   ]
  },
  {
   "cell_type": "code",
   "execution_count": null,
   "id": "846b832f",
   "metadata": {},
   "outputs": [],
   "source": [
    "# Features and label\n",
    "X = df.drop(columns=['FIRE_OCCURRENCE'])\n",
    "y = df['FIRE_OCCURRENCE']\n",
    "\n",
    "# Train/test split\n",
    "X_train, X_test, y_train, y_test = train_test_split(X, y, test_size=0.2, random_state=42)\n",
    "\n",
    "# Train model\n",
    "model = RandomForestClassifier(n_estimators=100, random_state=42, class_weight='balanced')\n",
    "model.fit(X_train, y_train)\n",
    "\n",
    "# Accuracy\n",
    "y_pred = model.predict(X_test)\n",
    "accuracy = accuracy_score(y_test, y_pred)\n",
    "mse = mean_squared_error(y_test, y_pred)\n",
    "r2 = r2_score(y_test, y_pred)\n",
    "print(f\"Accuracy: {accuracy}\")\n",
    "print(f\"Mean Squared Error: {mse}\")\n",
    "print(f\"R^2 Score: {r2}\")\n"
   ]
  },
  {
   "cell_type": "markdown",
   "id": "ac4d1424",
   "metadata": {},
   "source": [
    "The block of code below shows the input and prediction of the model. To use it, edit the 8 features below before running it."
   ]
  },
  {
   "cell_type": "code",
   "execution_count": null,
   "id": "91ae5e68",
   "metadata": {},
   "outputs": [],
   "source": [
    "prediction_data = pd.DataFrame([{\n",
    "    'LATITUDE': 34.264,     # Latitude of the location\n",
    "    'LONGITUDE': -116.854,  # Longitude of the location\n",
    "    'ELEVATION': 2057.1,    # Elevation in meters\n",
    "    'MAX': 62.6,            # Max temperature in Fahrenheit   \n",
    "    'TEMP': 46.1,           # Current temperature in Fahrenheit\n",
    "    'WDSP': 5,              # Wind speed in mph\n",
    "    'MONTH': 5,             # Month of the year (1-12)\n",
    "    'DAY': 5                # Day of the month (1-31)\n",
    "}])\n",
    "\n",
    "# Predict probability of fire\n",
    "fire_probability = model.predict_proba(prediction_data)[0, 1]\n",
    "print(f\"Predicted chance of fire: {fire_probability:.2%}\")"
   ]
  },
  {
   "cell_type": "markdown",
   "id": "a9210559",
   "metadata": {},
   "source": [
    "The following shows the various graphs to take a closer look at the data."
   ]
  },
  {
   "cell_type": "code",
   "execution_count": null,
   "id": "1f4905a5",
   "metadata": {},
   "outputs": [],
   "source": [
    "# Predict fire probabilities on test set\n",
    "probs = model.predict_proba(X_test)[:, 1]\n",
    "\n",
    "# Build a DataFrame for plotting\n",
    "results_df = X_test.copy()\n",
    "results_df['Fire_Probability'] = probs\n",
    "results_df['Actual'] = y_test.values\n",
    "\n",
    "# Plot 1: Distribution of Predicted Fire Probabilities\n",
    "plt.figure(figsize=(10, 6))\n",
    "sns.histplot(probs, bins=20, kde=True, color='red')\n",
    "plt.title('Distribution of Predicted Fire Probabilities')\n",
    "plt.xlabel('Fire Probability')\n",
    "plt.ylabel('Frequency')\n",
    "plt.grid(True)\n",
    "plt.show()\n",
    "\n",
    "# Plot 2: Fire Probability vs. Wind Speed (if WDSP exists)\n",
    "if 'WDSP' in results_df.columns:\n",
    "    plt.figure(figsize=(10, 6))\n",
    "    sns.scatterplot(\n",
    "        x='WDSP', y='Fire_Probability',\n",
    "        hue='Actual',\n",
    "        data=results_df,\n",
    "        palette='coolwarm'\n",
    "    )\n",
    "    plt.title('Fire Probability vs Wind Speed')\n",
    "    plt.xlabel('Wind Speed (WDSP)')\n",
    "    plt.ylabel('Predicted Fire Probability')\n",
    "    plt.grid(True)\n",
    "    plt.show()\n",
    "\n",
    "# Plot 3: Average Fire Probability by Month\n",
    "if 'MONTH' in results_df.columns:\n",
    "    monthly_avg = results_df.groupby('MONTH')['Fire_Probability'].mean().reset_index()\n",
    "    plt.figure(figsize=(10, 6))\n",
    "    sns.barplot(x='MONTH', y='Fire_Probability', data=monthly_avg, palette='viridis')\n",
    "    plt.title('Average Fire Probability by Month')\n",
    "    plt.xlabel('Month')\n",
    "    plt.ylabel('Average Predicted Fire Probability')\n",
    "    plt.grid(True)\n",
    "    plt.show()\n",
    "    \n",
    "# 4. Feature Importance Plot\n",
    "importances = model.feature_importances_\n",
    "features = X_train.columns\n",
    "importance_df = pd.DataFrame({\n",
    "    'Feature': features,\n",
    "    'Importance': importances\n",
    "}).sort_values(by='Importance', ascending=False)\n",
    "\n",
    "plt.figure(figsize=(10, 6))\n",
    "sns.barplot(x='Importance', y='Feature', data=importance_df, palette='magma')\n",
    "plt.title('Feature Importance in Fire Prediction Model')\n",
    "plt.xlabel('Importance Score')\n",
    "plt.ylabel('Feature')\n",
    "plt.grid(True)\n",
    "plt.show()\n",
    "\n",
    "# 5. Fire Probability vs Average Temperature\n",
    "if 'TEMP' in results_df.columns:\n",
    "    plt.figure(figsize=(10, 6))\n",
    "    sns.scatterplot(x='TEMP', y='Fire_Probability', data=results_df, hue='Actual', palette='coolwarm')\n",
    "    plt.title('Fire Probability vs Temperature')\n",
    "    plt.xlabel('Average Temperature (TEMP)')\n",
    "    plt.ylabel('Predicted Fire Probability')\n",
    "    plt.grid(True)\n",
    "    plt.show()\n",
    "\n",
    "# 6. Fire Probability vs Max Temperature\n",
    "if 'MAX' in results_df.columns:\n",
    "    plt.figure(figsize=(10, 6))\n",
    "    sns.scatterplot(x='MAX', y='Fire_Probability', data=results_df, hue='Actual', palette='coolwarm')\n",
    "    plt.title('Fire Probability vs Max Temperature')\n",
    "    plt.xlabel('Max Temperature (MAX)')\n",
    "    plt.ylabel('Predicted Fire Probability')\n",
    "    plt.grid(True)\n",
    "    plt.show()\n",
    "\n"
   ]
  },
  {
   "cell_type": "markdown",
   "id": "e50fe65e",
   "metadata": {},
   "source": [
    "Pre-Process the Data (2) {This isn't used in the final model}"
   ]
  },
  {
   "cell_type": "code",
   "execution_count": 16,
   "id": "0adf616d",
   "metadata": {},
   "outputs": [],
   "source": [
    "# Convert DATE to datetime\n",
    "df['DATE'] = pd.to_datetime(df['DATE'], errors='coerce')\n",
    "\n",
    "# Extract month, and day from DATE\n",
    "df['MONTH'] = df['DATE'].dt.month\n",
    "df['DAY'] = df['DATE'].dt.day\n",
    "\n",
    "# Drop unnecessary columns\n",
    "df = df.drop(columns=['STATION', 'DATE', 'FIRE_NAME'])\n",
    "df = df.dropna()\n",
    "\n",
    "# Remove invalid rows where MAX temperature is abnormally high\n",
    "df = df[df['MAX'] < 300]  # Assumes real temperatures are under 300°F\n",
    "\n",
    "# putting LATITUDE and LONGITUDE together\n",
    "coords = df[['LATITUDE', 'LONGITUDE']]\n",
    "\n",
    "# Create location clusters\n",
    "kmeans = KMeans(n_clusters=10, random_state=42)\n",
    "df['REGION'] = kmeans.fit_predict(coords)\n",
    "\n",
    "# Drop raw coordinates\n",
    "df = df.drop(columns=['LATITUDE', 'LONGITUDE'])\n",
    "\n",
    "# Include REGION in your model\n",
    "X = df.drop(columns=['FIRE_OCCURRENCE'])\n",
    "y = df['FIRE_OCCURRENCE']\n"
   ]
  },
  {
   "cell_type": "markdown",
   "id": "c1ca543a",
   "metadata": {},
   "source": []
  },
  {
   "cell_type": "markdown",
   "id": "ffab94e5",
   "metadata": {},
   "source": [
    "This code block tests for clustering location rather than stictly looking at the latitude and longitude. It's not part of the final model."
   ]
  },
  {
   "cell_type": "markdown",
   "id": "9a7657cf",
   "metadata": {},
   "source": []
  },
  {
   "cell_type": "code",
   "execution_count": null,
   "id": "3d0641a2",
   "metadata": {},
   "outputs": [
    {
     "name": "stderr",
     "output_type": "stream",
     "text": [
      "/var/folders/xd/6gjsjt616lq3hp1d33ns10300000gn/T/ipykernel_26453/2224778231.py:2: DtypeWarning: Columns (0) have mixed types. Specify dtype option on import or set low_memory=False.\n",
      "  df2 = pd.read_csv(\"weather_data_with_fires.csv\")  # Uncomment if loading from CSV\n"
     ]
    },
    {
     "data": {
      "image/png": "[encoded data removed]",
      "text/plain": [
       "<Figure size 1000x800 with 2 Axes>"
      ]
     },
     "metadata": {},
     "output_type": "display_data"
    }
   ],
   "source": [
    "# 1. Load your dataset (or use an existing DataFrame called df)\n",
    "df2 = pd.read_csv(\"weather_data_with_fires.csv\")\n",
    "\n",
    "# 2. Select coordinates\n",
    "coords = df2[['LATITUDE', 'LONGITUDE']]\n",
    "\n",
    "# 3. Apply KMeans clustering to coordinates\n",
    "n_clusters = 20\n",
    "kmeans = KMeans(n_clusters=n_clusters, random_state=42)\n",
    "df2['REGION'] = kmeans.fit_predict(coords)\n",
    "\n",
    "# 4. Plot the clusters on a map\n",
    "plt.figure(figsize=(10, 8))\n",
    "scatter = plt.scatter(\n",
    "    df2['LONGITUDE'], df2['LATITUDE'],\n",
    "    c=df2['REGION'], cmap='tab10', s=10\n",
    ")\n",
    "plt.colorbar(scatter, label='Region Cluster')\n",
    "plt.title(f'Geographic Clustering of Fire Data ({n_clusters} Regions)')\n",
    "plt.xlabel('Longitude')\n",
    "plt.ylabel('Latitude')\n",
    "plt.grid(True)\n",
    "plt.show()\n"
   ]
  }
 ],
 "metadata": {
  "kernelspec": {
   "display_name": "Python 3",
   "language": "python",
   "name": "python3"
  },
  "language_info": {
   "codemirror_mode": {
    "name": "ipython",
    "version": 3
   },
   "file_extension": ".py",
   "mimetype": "text/x-python",
   "name": "python",
   "nbconvert_exporter": "python",
   "pygments_lexer": "ipython3",
   "version": "3.10.8"
  }
 },
 "nbformat": 4,
 "nbformat_minor": 5
}
